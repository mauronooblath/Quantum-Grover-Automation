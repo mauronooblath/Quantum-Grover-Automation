{
 "cells": [
  {
   "attachments": {},
   "cell_type": "markdown",
   "metadata": {},
   "source": [
    "### Vamos estudar o Algoritmo de Grover. Para isso, começaremos executando as células abaixo"
   ]
  },
  {
   "cell_type": "code",
   "execution_count": 5,
   "metadata": {},
   "outputs": [],
   "source": [
    "# |00> --> Vermelho\n",
    "# |01> --> Verde\n",
    "# |10> --> Branco\n",
    "# |11> --> Amarelo"
   ]
  },
  {
   "cell_type": "code",
   "execution_count": 4,
   "metadata": {},
   "outputs": [
    {
     "name": "stdout",
     "output_type": "stream",
     "text": [
      "Defaulting to user installation because normal site-packages is not writeable\n",
      "Collecting pyfirmata\n",
      "  Downloading pyFirmata-1.1.0-py2.py3-none-any.whl (14 kB)\n",
      "Collecting pyserial\n",
      "  Downloading pyserial-3.5-py2.py3-none-any.whl (90 kB)\n",
      "\u001b[2K     \u001b[90m━━━━━━━━━━━━━━━━━━━━━━━━━━━━━━━━━━━━━━━\u001b[0m \u001b[32m90.6/90.6 KB\u001b[0m \u001b[31m704.2 kB/s\u001b[0m eta \u001b[36m0:00:00\u001b[0m \u001b[36m0:00:01\u001b[0m\n",
      "\u001b[?25hInstalling collected packages: pyserial, pyfirmata\n",
      "Successfully installed pyfirmata-1.1.0 pyserial-3.5\n"
     ]
    }
   ],
   "source": [
    "!pip install pyfirmata"
   ]
  },
  {
   "attachments": {},
   "cell_type": "markdown",
   "metadata": {},
   "source": [
    "Como faremos uma prática com Arduino, execute a célula abaixo "
   ]
  },
  {
   "cell_type": "code",
   "execution_count": 6,
   "metadata": {},
   "outputs": [
    {
     "ename": "SerialException",
     "evalue": "[Errno 2] could not open port COM5: [Errno 2] No such file or directory: 'COM5'",
     "output_type": "error",
     "traceback": [
      "\u001b[0;31m---------------------------------------------------------------------------\u001b[0m",
      "\u001b[0;31mFileNotFoundError\u001b[0m                         Traceback (most recent call last)",
      "\u001b[0;32m~/.local/lib/python3.10/site-packages/serial/serialposix.py\u001b[0m in \u001b[0;36mopen\u001b[0;34m(self)\u001b[0m\n\u001b[1;32m    321\u001b[0m         \u001b[0;32mtry\u001b[0m\u001b[0;34m:\u001b[0m\u001b[0;34m\u001b[0m\u001b[0;34m\u001b[0m\u001b[0m\n\u001b[0;32m--> 322\u001b[0;31m             \u001b[0mself\u001b[0m\u001b[0;34m.\u001b[0m\u001b[0mfd\u001b[0m \u001b[0;34m=\u001b[0m \u001b[0mos\u001b[0m\u001b[0;34m.\u001b[0m\u001b[0mopen\u001b[0m\u001b[0;34m(\u001b[0m\u001b[0mself\u001b[0m\u001b[0;34m.\u001b[0m\u001b[0mportstr\u001b[0m\u001b[0;34m,\u001b[0m \u001b[0mos\u001b[0m\u001b[0;34m.\u001b[0m\u001b[0mO_RDWR\u001b[0m \u001b[0;34m|\u001b[0m \u001b[0mos\u001b[0m\u001b[0;34m.\u001b[0m\u001b[0mO_NOCTTY\u001b[0m \u001b[0;34m|\u001b[0m \u001b[0mos\u001b[0m\u001b[0;34m.\u001b[0m\u001b[0mO_NONBLOCK\u001b[0m\u001b[0;34m)\u001b[0m\u001b[0;34m\u001b[0m\u001b[0;34m\u001b[0m\u001b[0m\n\u001b[0m\u001b[1;32m    323\u001b[0m         \u001b[0;32mexcept\u001b[0m \u001b[0mOSError\u001b[0m \u001b[0;32mas\u001b[0m \u001b[0mmsg\u001b[0m\u001b[0;34m:\u001b[0m\u001b[0;34m\u001b[0m\u001b[0;34m\u001b[0m\u001b[0m\n",
      "\u001b[0;31mFileNotFoundError\u001b[0m: [Errno 2] No such file or directory: 'COM5'",
      "\nDuring handling of the above exception, another exception occurred:\n",
      "\u001b[0;31mSerialException\u001b[0m                           Traceback (most recent call last)",
      "\u001b[0;32m/tmp/ipykernel_10566/1661937479.py\u001b[0m in \u001b[0;36m<module>\u001b[0;34m\u001b[0m\n\u001b[1;32m      8\u001b[0m \u001b[0;34m\u001b[0m\u001b[0m\n\u001b[1;32m      9\u001b[0m \u001b[0mport\u001b[0m \u001b[0;34m=\u001b[0m \u001b[0;34m'COM5'\u001b[0m \u001b[0;31m# Definindo a porta, arduino de acordo com o que está no Sketch.\u001b[0m\u001b[0;34m\u001b[0m\u001b[0;34m\u001b[0m\u001b[0m\n\u001b[0;32m---> 10\u001b[0;31m \u001b[0mboard\u001b[0m \u001b[0;34m=\u001b[0m \u001b[0mpyfirmata\u001b[0m\u001b[0;34m.\u001b[0m\u001b[0mArduino\u001b[0m\u001b[0;34m(\u001b[0m\u001b[0mport\u001b[0m\u001b[0;34m)\u001b[0m \u001b[0;31m# Criando o objeto \"board\" com a respoectiva porta\u001b[0m\u001b[0;34m\u001b[0m\u001b[0;34m\u001b[0m\u001b[0m\n\u001b[0m\u001b[1;32m     11\u001b[0m \u001b[0;34m\u001b[0m\u001b[0m\n\u001b[1;32m     12\u001b[0m \u001b[0;34m\u001b[0m\u001b[0m\n",
      "\u001b[0;32m~/.local/lib/python3.10/site-packages/pyfirmata/__init__.py\u001b[0m in \u001b[0;36m__init__\u001b[0;34m(self, *args, **kwargs)\u001b[0m\n\u001b[1;32m     17\u001b[0m         \u001b[0margs\u001b[0m \u001b[0;34m=\u001b[0m \u001b[0mlist\u001b[0m\u001b[0;34m(\u001b[0m\u001b[0margs\u001b[0m\u001b[0;34m)\u001b[0m\u001b[0;34m\u001b[0m\u001b[0;34m\u001b[0m\u001b[0m\n\u001b[1;32m     18\u001b[0m         \u001b[0margs\u001b[0m\u001b[0;34m.\u001b[0m\u001b[0mappend\u001b[0m\u001b[0;34m(\u001b[0m\u001b[0mBOARDS\u001b[0m\u001b[0;34m[\u001b[0m\u001b[0;34m'arduino'\u001b[0m\u001b[0;34m]\u001b[0m\u001b[0;34m)\u001b[0m\u001b[0;34m\u001b[0m\u001b[0;34m\u001b[0m\u001b[0m\n\u001b[0;32m---> 19\u001b[0;31m         \u001b[0msuper\u001b[0m\u001b[0;34m(\u001b[0m\u001b[0mArduino\u001b[0m\u001b[0;34m,\u001b[0m \u001b[0mself\u001b[0m\u001b[0;34m)\u001b[0m\u001b[0;34m.\u001b[0m\u001b[0m__init__\u001b[0m\u001b[0;34m(\u001b[0m\u001b[0;34m*\u001b[0m\u001b[0margs\u001b[0m\u001b[0;34m,\u001b[0m \u001b[0;34m**\u001b[0m\u001b[0mkwargs\u001b[0m\u001b[0;34m)\u001b[0m\u001b[0;34m\u001b[0m\u001b[0;34m\u001b[0m\u001b[0m\n\u001b[0m\u001b[1;32m     20\u001b[0m \u001b[0;34m\u001b[0m\u001b[0m\n\u001b[1;32m     21\u001b[0m     \u001b[0;32mdef\u001b[0m \u001b[0m__str__\u001b[0m\u001b[0;34m(\u001b[0m\u001b[0mself\u001b[0m\u001b[0;34m)\u001b[0m\u001b[0;34m:\u001b[0m\u001b[0;34m\u001b[0m\u001b[0;34m\u001b[0m\u001b[0m\n",
      "\u001b[0;32m~/.local/lib/python3.10/site-packages/pyfirmata/pyfirmata.py\u001b[0m in \u001b[0;36m__init__\u001b[0;34m(self, port, layout, baudrate, name, timeout)\u001b[0m\n\u001b[1;32m     87\u001b[0m \u001b[0;34m\u001b[0m\u001b[0m\n\u001b[1;32m     88\u001b[0m     \u001b[0;32mdef\u001b[0m \u001b[0m__init__\u001b[0m\u001b[0;34m(\u001b[0m\u001b[0mself\u001b[0m\u001b[0;34m,\u001b[0m \u001b[0mport\u001b[0m\u001b[0;34m,\u001b[0m \u001b[0mlayout\u001b[0m\u001b[0;34m=\u001b[0m\u001b[0;32mNone\u001b[0m\u001b[0;34m,\u001b[0m \u001b[0mbaudrate\u001b[0m\u001b[0;34m=\u001b[0m\u001b[0;36m57600\u001b[0m\u001b[0;34m,\u001b[0m \u001b[0mname\u001b[0m\u001b[0;34m=\u001b[0m\u001b[0;32mNone\u001b[0m\u001b[0;34m,\u001b[0m \u001b[0mtimeout\u001b[0m\u001b[0;34m=\u001b[0m\u001b[0;32mNone\u001b[0m\u001b[0;34m)\u001b[0m\u001b[0;34m:\u001b[0m\u001b[0;34m\u001b[0m\u001b[0;34m\u001b[0m\u001b[0m\n\u001b[0;32m---> 89\u001b[0;31m         \u001b[0mself\u001b[0m\u001b[0;34m.\u001b[0m\u001b[0msp\u001b[0m \u001b[0;34m=\u001b[0m \u001b[0mserial\u001b[0m\u001b[0;34m.\u001b[0m\u001b[0mSerial\u001b[0m\u001b[0;34m(\u001b[0m\u001b[0mport\u001b[0m\u001b[0;34m,\u001b[0m \u001b[0mbaudrate\u001b[0m\u001b[0;34m,\u001b[0m \u001b[0mtimeout\u001b[0m\u001b[0;34m=\u001b[0m\u001b[0mtimeout\u001b[0m\u001b[0;34m)\u001b[0m\u001b[0;34m\u001b[0m\u001b[0;34m\u001b[0m\u001b[0m\n\u001b[0m\u001b[1;32m     90\u001b[0m         \u001b[0;31m# Allow 5 secs for Arduino's auto-reset to happen\u001b[0m\u001b[0;34m\u001b[0m\u001b[0;34m\u001b[0m\u001b[0m\n\u001b[1;32m     91\u001b[0m         \u001b[0;31m# Alas, Firmata blinks its version before printing it to serial\u001b[0m\u001b[0;34m\u001b[0m\u001b[0;34m\u001b[0m\u001b[0m\n",
      "\u001b[0;32m~/.local/lib/python3.10/site-packages/serial/serialutil.py\u001b[0m in \u001b[0;36m__init__\u001b[0;34m(self, port, baudrate, bytesize, parity, stopbits, timeout, xonxoff, rtscts, write_timeout, dsrdtr, inter_byte_timeout, exclusive, **kwargs)\u001b[0m\n\u001b[1;32m    242\u001b[0m \u001b[0;34m\u001b[0m\u001b[0m\n\u001b[1;32m    243\u001b[0m         \u001b[0;32mif\u001b[0m \u001b[0mport\u001b[0m \u001b[0;32mis\u001b[0m \u001b[0;32mnot\u001b[0m \u001b[0;32mNone\u001b[0m\u001b[0;34m:\u001b[0m\u001b[0;34m\u001b[0m\u001b[0;34m\u001b[0m\u001b[0m\n\u001b[0;32m--> 244\u001b[0;31m             \u001b[0mself\u001b[0m\u001b[0;34m.\u001b[0m\u001b[0mopen\u001b[0m\u001b[0;34m(\u001b[0m\u001b[0;34m)\u001b[0m\u001b[0;34m\u001b[0m\u001b[0;34m\u001b[0m\u001b[0m\n\u001b[0m\u001b[1;32m    245\u001b[0m \u001b[0;34m\u001b[0m\u001b[0m\n\u001b[1;32m    246\u001b[0m     \u001b[0;31m#  -  -  -  -  -  -  -  -  -  -  -  -  -  -  -  -  -  -  -  -  -  -  -  -\u001b[0m\u001b[0;34m\u001b[0m\u001b[0;34m\u001b[0m\u001b[0m\n",
      "\u001b[0;32m~/.local/lib/python3.10/site-packages/serial/serialposix.py\u001b[0m in \u001b[0;36mopen\u001b[0;34m(self)\u001b[0m\n\u001b[1;32m    323\u001b[0m         \u001b[0;32mexcept\u001b[0m \u001b[0mOSError\u001b[0m \u001b[0;32mas\u001b[0m \u001b[0mmsg\u001b[0m\u001b[0;34m:\u001b[0m\u001b[0;34m\u001b[0m\u001b[0;34m\u001b[0m\u001b[0m\n\u001b[1;32m    324\u001b[0m             \u001b[0mself\u001b[0m\u001b[0;34m.\u001b[0m\u001b[0mfd\u001b[0m \u001b[0;34m=\u001b[0m \u001b[0;32mNone\u001b[0m\u001b[0;34m\u001b[0m\u001b[0;34m\u001b[0m\u001b[0m\n\u001b[0;32m--> 325\u001b[0;31m             \u001b[0;32mraise\u001b[0m \u001b[0mSerialException\u001b[0m\u001b[0;34m(\u001b[0m\u001b[0mmsg\u001b[0m\u001b[0;34m.\u001b[0m\u001b[0merrno\u001b[0m\u001b[0;34m,\u001b[0m \u001b[0;34m\"could not open port {}: {}\"\u001b[0m\u001b[0;34m.\u001b[0m\u001b[0mformat\u001b[0m\u001b[0;34m(\u001b[0m\u001b[0mself\u001b[0m\u001b[0;34m.\u001b[0m\u001b[0m_port\u001b[0m\u001b[0;34m,\u001b[0m \u001b[0mmsg\u001b[0m\u001b[0;34m)\u001b[0m\u001b[0;34m)\u001b[0m\u001b[0;34m\u001b[0m\u001b[0;34m\u001b[0m\u001b[0m\n\u001b[0m\u001b[1;32m    326\u001b[0m         \u001b[0;31m#~ fcntl.fcntl(self.fd, fcntl.F_SETFL, 0)  # set blocking\u001b[0m\u001b[0;34m\u001b[0m\u001b[0;34m\u001b[0m\u001b[0m\n\u001b[1;32m    327\u001b[0m \u001b[0;34m\u001b[0m\u001b[0m\n",
      "\u001b[0;31mSerialException\u001b[0m: [Errno 2] could not open port COM5: [Errno 2] No such file or directory: 'COM5'"
     ]
    }
   ],
   "source": [
    "import numpy as np\n",
    "import matplotlib.pyplot as plt\n",
    "from qiskit import*\n",
    "from qiskit.circuit import*\n",
    "from qiskit.visualization import*\n",
    "import pyfirmata\n",
    "import time\n",
    "\n",
    "port = 'COM5' # Definindo a porta, arduino de acordo com o que está no Sketch.\n",
    "board = pyfirmata.Arduino(port) # Criando o objeto \"board\" com a respoectiva porta\n",
    "\n",
    "\n",
    "def pyQuantArd(results):\n",
    "    qBits = len(list(results)[0])\n",
    "    N = 2**qBits\n",
    "    pinVermelho = 8 # 1000\n",
    "    pinVerde = 9 # 0100\n",
    "    pinBranco = 10 # 0010\n",
    "    pinAmarelo = 11 # 0001\n",
    "    \n",
    "    initial_Array = np.zeros(2**qBits)\n",
    "    for i in range(len(results)):\n",
    "        initial_Array = initial_Array + np.identity(N)[int(list(results)[i],base = 2)]\n",
    "\n",
    "    for i in range(5):\n",
    "        time.sleep(0.1)\n",
    "        board.digital[pinVermelho].write(int(initial_Array[0]))\n",
    "        board.digital[pinVerde].write(int(initial_Array[1]))\n",
    "        board.digital[pinBranco].write(int(initial_Array[2]))\n",
    "        board.digital[pinAmarelo].write(int(initial_Array[3]))\n",
    "        \n",
    "        time.sleep(0.1)\n",
    "        board.digital[pinVermelho].write(0)\n",
    "        board.digital[pinVerde].write(0)\n",
    "        board.digital[pinBranco].write(0)\n",
    "        board.digital[pinAmarelo].write(0)\n",
    "        time.sleep(0.1)"
   ]
  },
  {
   "attachments": {},
   "cell_type": "markdown",
   "metadata": {},
   "source": [
    "##### Grover com 2 QuBits"
   ]
  },
  {
   "cell_type": "code",
   "execution_count": 12,
   "metadata": {},
   "outputs": [
    {
     "data": {
      "image/png": "[encoded data removed]",
      "text/plain": [
       "<Figure size 779.079x204.68 with 1 Axes>"
      ]
     },
     "execution_count": 12,
     "metadata": {},
     "output_type": "execute_result"
    }
   ],
   "source": [
    "qBits = 2\n",
    "\n",
    "m = 2 #Quantos Estados queremos achar\n",
    "N = 2**qBits\n",
    "\n",
    "t = int(np.pi/4*(np.sqrt(N/m))) # Números de Iterações Grover\n",
    "qc = QuantumCircuit(qBits)\n",
    "qc.h(range(qBits))\n",
    "# Vamos definir o oráculo para o estado |11> que é o equivalente ao LED amarelo\n",
    "qc.cz(0,1)\n",
    "qc.barrier()\n",
    "# Vamos definir o operador diffuser\n",
    "\n",
    "for t_ in range(t):\n",
    "    qc.h(range(qBits))\n",
    "    qc.x(range(qBits))\n",
    "    qc.cz(0,1)\n",
    "    qc.x(range(qBits))\n",
    "    qc.h(range(qBits))\n",
    "\n",
    "qc.measure_all()\n",
    "qc.draw('mpl')\n"
   ]
  },
  {
   "attachments": {},
   "cell_type": "markdown",
   "metadata": {},
   "source": [
    "<p> Agora, vamos extrair os resultados do circuito utilizando a função get_counts() <p>"
   ]
  },
  {
   "cell_type": "code",
   "execution_count": 13,
   "metadata": {},
   "outputs": [
    {
     "data": {
      "image/png": "[encoded data removed]",
      "text/plain": [
       "<Figure size 504x360 with 1 Axes>"
      ]
     },
     "execution_count": 13,
     "metadata": {},
     "output_type": "execute_result"
    }
   ],
   "source": [
    "sim = Aer.get_backend(\"aer_simulator\")\n",
    "results = execute(qc,sim,shots = 10000).result().get_counts()\n",
    "plot_histogram(results)"
   ]
  },
  {
   "cell_type": "code",
   "execution_count": null,
   "metadata": {},
   "outputs": [],
   "source": [
    "pyQuantArd(results)"
   ]
  },
  {
   "attachments": {},
   "cell_type": "markdown",
   "metadata": {},
   "source": [
    "<b>Exercício 1: Agora é com você. Complete o Código de Grover para Ligar o LED branco e meça o circuito</b>"
   ]
  },
  {
   "cell_type": "code",
   "execution_count": null,
   "metadata": {},
   "outputs": [],
   "source": [
    "qBits = 2\n",
    "\n",
    "m = 1 #Quantos Estados queremos achar\n",
    "\n",
    "\n",
    "N = 2**qBits\n",
    "t = int(np.pi/4*(np.sqrt(N/m))) # Números de Iterações Grover\n",
    " qc = QuantumCircuit(qBits)\n",
    "qc.h(range(qBits))\n",
    "\n",
    "\n",
    "#Defina o Oráculo para o LED Branco\n",
    "\n",
    "#======= COMEÇA O CÓDIGO AQUI ====== #\n",
    "\n",
    "\n",
    "\n",
    "qc.cz(0,1)\n",
    "\n",
    "\n",
    "# ======TERMINA O CÓDIGO AQUI ==== #\n",
    "\n",
    "\n",
    "qc.barrier()\n",
    "\n",
    "# Vamos definir o operador diffuser\n",
    "\n",
    "for t_ in range(t):\n",
    "    qc.h(range(qBits))\n",
    "    qc.x(range(qBits))\n",
    "    qc.cz(0,1)\n",
    "    qc.x(range(qBits))\n",
    "    qc.h(range(qBits))\n",
    "#======= COMEÇA O CÓDIGO AQUI ====== #\n",
    "\n",
    "#======= TERMINA O CÓDIGO AQUI ====== #\n",
    "\n",
    "\n",
    "\n",
    "\n",
    "qc.draw('mpl')\n"
   ]
  },
  {
   "cell_type": "code",
   "execution_count": null,
   "metadata": {},
   "outputs": [],
   "source": [
    "sim = Aer.get_backend(\"aer_simulator\")\n",
    "results = execute(qc,sim,shots = 10000).result().get_counts()\n",
    "\n",
    "plot_histogram(results)"
   ]
  },
  {
   "cell_type": "code",
   "execution_count": null,
   "metadata": {},
   "outputs": [],
   "source": [
    "pyQuantArd() # COMPLETE COM O OBJETO QUE GUARDA OS RESULTADOS"
   ]
  },
  {
   "attachments": {},
   "cell_type": "markdown",
   "metadata": {},
   "source": [
    "### Definindo um Grover de 3 QuBits\n",
    "##### Exercício 2: <p>Para isso precisamos criar uma porta multi-controlada Z, pois não existe uma porta multi-controlada Z no qiskit para 3 ou mais QuBits. \n",
    "<p>Crie uma porta multi-controle Z utilizando portas CNOTs multi-controle e Hadamards </p>\n",
    "<p>Dica HXH = Z </p>"
   ]
  },
  {
   "attachments": {},
   "cell_type": "markdown",
   "metadata": {},
   "source": [
    "#=======================Criando uma Porta MultiControl Z=================="
   ]
  },
  {
   "cell_type": "code",
   "execution_count": null,
   "metadata": {},
   "outputs": [],
   "source": [
    "mcz_ = QuantumCircuit(3)\n",
    "\n",
    "### COMEÇA O CÓDIGO AQUI\n",
    "\n",
    "mcz_.mcx([0,1],2)\n",
    "\n",
    "### TERMINA O CÓDIGO AQUI\n",
    "\n",
    "mcz = mcz_.to_instruction(label='Multi_controlZ')\n",
    "mcz_.draw('mpl')"
   ]
  },
  {
   "attachments": {},
   "cell_type": "markdown",
   "metadata": {},
   "source": [
    "#### Exercício 3: Crie um oráculo para 3 QuBits para medir o LED Amarelo"
   ]
  },
  {
   "cell_type": "code",
   "execution_count": null,
   "metadata": {},
   "outputs": [],
   "source": [
    "from qiskit import*\n",
    "from qiskit.visualization import*\n",
    "from qiskit.circuit import*\n",
    "\n",
    "\n",
    "\n",
    "\n",
    "qBits = 3\n",
    "\n",
    "\n",
    "N = 2**qBits\n",
    "m = 1\n",
    "t = int(np.floor(np.pi/4*(np.sqrt(N/m))))\n",
    "qRegs = QuantumRegister(qBits, 'qReg')\n",
    "qc = QuantumCircuit(qRegs)\n",
    "\n",
    "[qc.h(i) for i in range(qBits)]\n",
    "\n",
    "for t_ in range(t):\n",
    "    qc.barrier()\n",
    "    \n",
    "    # COMECE O CÓDIGO AQUI\n",
    "    \n",
    "    \n",
    "   \n",
    "   \n",
    "    # TERMINE O CÓDIGO AQUI\n",
    "    \n",
    "    qc.barrier()\n",
    "\n",
    "    [qc.h(i) for i in range(qBits)]\n",
    "    [qc.x(i) for i in range(qBits)]\n",
    "    qc.append(mcz,[0,1,2])\n",
    "    [qc.x(i) for i in range(qBits)]\n",
    "    [qc.h(i) for i in range(qBits)]\n",
    "\n",
    "qc.measure_all()\n",
    "\n",
    "\n",
    "qc.draw('mpl')"
   ]
  },
  {
   "cell_type": "code",
   "execution_count": null,
   "metadata": {},
   "outputs": [],
   "source": [
    "sim = Aer.get_backend(\"aer_simulator\")\n",
    "\n",
    "results = execute(qc, sim).result().get_counts()\n",
    "plot_histogram(results)"
   ]
  },
  {
   "cell_type": "code",
   "execution_count": null,
   "metadata": {},
   "outputs": [],
   "source": [
    "import heapq\n",
    "results  = dict(heapq.nlargest(m, results.items(), key= lambda item: item[1])) \n",
    "# Esta Função acima é para pegar os estados com maiores probabilidades"
   ]
  },
  {
   "cell_type": "code",
   "execution_count": null,
   "metadata": {},
   "outputs": [],
   "source": [
    "pyQuantArd() # ADICIONE OS RESULTADOS DE GROVER"
   ]
  },
  {
   "attachments": {},
   "cell_type": "markdown",
   "metadata": {},
   "source": [
    "<b>Exercício 4: Complete o Código de Grover para Ligar o LED branco, LED Verde, Led Amarelo</b>"
   ]
  },
  {
   "cell_type": "code",
   "execution_count": null,
   "metadata": {},
   "outputs": [],
   "source": [
    "from qiskit import*\n",
    "from qiskit.visualization import*\n",
    "from qiskit.circuit import*\n",
    "\n",
    "qBits = 3\n",
    "\n",
    "\n",
    "N = 2**qBits\n",
    "m = 3\n",
    "t = int(np.floor(np.pi/4*(np.sqrt(N/m))))\n",
    "qRegs = QuantumRegister(qBits, 'qReg')\n",
    "qc = QuantumCircuit(qRegs)\n",
    "\n",
    "[qc.h(i) for i in range(qBits)]\n",
    "\n",
    "for t_ in range(t):\n",
    "    qc.barrier()\n",
    "    \n",
    "    #===================== Oráculo para o LED Branco =======================\n",
    "    \n",
    "    \n",
    "    qc.barrier()\n",
    "    #===================== Oráculo para o LED Verde ======================\n",
    "    \n",
    "    \n",
    "    \n",
    "    qc.barrier()\n",
    "    \n",
    "    #====================== Oráculo para o LED Amarelo ======================\n",
    "   \n",
    "    \n",
    "    qc.barrier()\n",
    "\n",
    "    [qc.h(i) for i in range(qBits)]\n",
    "    [qc.x(i) for i in range(qBits)]\n",
    "    qc.append(mcz,[0,1,2])\n",
    "    [qc.x(i) for i in range(qBits)]\n",
    "    [qc.h(i) for i in range(qBits)]\n",
    "\n",
    "qc.measure_all()\n",
    "\n",
    "\n",
    "qc.draw('mpl')"
   ]
  },
  {
   "cell_type": "code",
   "execution_count": null,
   "metadata": {},
   "outputs": [],
   "source": [
    "sim = Aer.get_backend(\"aer_simulator\")\n",
    "\n",
    "results = execute(qc, sim).result().get_counts()\n",
    "plot_histogram(results)"
   ]
  },
  {
   "cell_type": "code",
   "execution_count": null,
   "metadata": {},
   "outputs": [],
   "source": [
    "import heapq\n",
    "results  = dict(heapq.nlargest(m, results.items(), key= lambda item: item[1]))\n"
   ]
  },
  {
   "cell_type": "code",
   "execution_count": null,
   "metadata": {},
   "outputs": [],
   "source": [
    "pyQuantArd() # ADICIONE OS RESULTADOS DE GROVER"
   ]
  },
  {
   "attachments": {},
   "cell_type": "markdown",
   "metadata": {},
   "source": [
    "DESAFIO (OPCIONAL): A porta Hadarmad pode superpor estados de um qubit. Ao aplicar a Hadarmard em |0> temos um estado $$H|0\\rangle = \\frac{|0\\rangle + |1\\rangle}{2}$$ Se fizermos 10000 medidas, a tendência é que a metade dessas medidas vai para o estado |0> e a outra metade vai para o estado |1>. \n",
    "\n",
    "<p>O Desafio é para criar um algoritmo quântico com 2 Qubits que selecione UM LED de uma determinada cor através do Algoritmo de Grover. Após isso, um outro algoritmo Quântico que utilize a porta Hadarmard faça medidas aleatórias neste LED, ao ponto de fazê-lo desligar e ligar cerca de 10000 vezes. </p>\n",
    "\n",
    "\n",
    "<b>ATENÇAO: FAÇA ISSO PARA TODAS AS POSSÍVEIS CORES</b>"
   ]
  }
 ],
 "metadata": {
  "kernelspec": {
   "display_name": "Python 3",
   "language": "python",
   "name": "python3"
  },
  "language_info": {
   "codemirror_mode": {
    "name": "ipython",
    "version": 3
   },
   "file_extension": ".py",
   "mimetype": "text/x-python",
   "name": "python",
   "nbconvert_exporter": "python",
   "pygments_lexer": "ipython3",
   "version": "3.10.6"
  },
  "orig_nbformat": 4
 },
 "nbformat": 4,
 "nbformat_minor": 2
}
