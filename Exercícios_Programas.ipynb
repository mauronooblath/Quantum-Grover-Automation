{
 "cells": [
  {
   "attachments": {},
   "cell_type": "markdown",
   "metadata": {},
   "source": [
    "### Vamos estudar o Algoritmo de Grover. Para isso, começaremos executando as células abaixo"
   ]
  },
  {
   "attachments": {},
   "cell_type": "markdown",
   "metadata": {},
   "source": [
    "Como faremos uma prática com Arduino, execute a célula abaixo "
   ]
  },
  {
   "cell_type": "code",
   "execution_count": 1,
   "metadata": {},
   "outputs": [
    {
     "ename": "SerialException",
     "evalue": "could not open port 'COM5': FileNotFoundError(2, 'O sistema não pode encontrar o arquivo especificado.', None, 2)",
     "output_type": "error",
     "traceback": [
      "\u001b[1;31m---------------------------------------------------------------------------\u001b[0m",
      "\u001b[1;31mSerialException\u001b[0m                           Traceback (most recent call last)",
      "Cell \u001b[1;32mIn[1], line 10\u001b[0m\n\u001b[0;32m      7\u001b[0m \u001b[39mimport\u001b[39;00m \u001b[39mtime\u001b[39;00m\n\u001b[0;32m      9\u001b[0m port \u001b[39m=\u001b[39m \u001b[39m'\u001b[39m\u001b[39mCOM5\u001b[39m\u001b[39m'\u001b[39m \u001b[39m# Definindo a porta, arduino de acordo com o que está no Sketch.\u001b[39;00m\n\u001b[1;32m---> 10\u001b[0m board \u001b[39m=\u001b[39m pyfirmata\u001b[39m.\u001b[39;49mArduino(port) \u001b[39m# Criando o objeto \"board\" com a respoectiva porta\u001b[39;00m\n\u001b[0;32m     13\u001b[0m \u001b[39mdef\u001b[39;00m \u001b[39mpyQuantArd\u001b[39m(results):\n\u001b[0;32m     14\u001b[0m     qBits \u001b[39m=\u001b[39m \u001b[39mlen\u001b[39m(\u001b[39mlist\u001b[39m(results)[\u001b[39m0\u001b[39m])\n",
      "File \u001b[1;32m~\\AppData\\Local\\Packages\\PythonSoftwareFoundation.Python.3.10_qbz5n2kfra8p0\\LocalCache\\local-packages\\Python310\\site-packages\\pyfirmata\\__init__.py:19\u001b[0m, in \u001b[0;36mArduino.__init__\u001b[1;34m(self, *args, **kwargs)\u001b[0m\n\u001b[0;32m     17\u001b[0m args \u001b[39m=\u001b[39m \u001b[39mlist\u001b[39m(args)\n\u001b[0;32m     18\u001b[0m args\u001b[39m.\u001b[39mappend(BOARDS[\u001b[39m'\u001b[39m\u001b[39marduino\u001b[39m\u001b[39m'\u001b[39m])\n\u001b[1;32m---> 19\u001b[0m \u001b[39msuper\u001b[39m(Arduino, \u001b[39mself\u001b[39m)\u001b[39m.\u001b[39m\u001b[39m__init__\u001b[39m(\u001b[39m*\u001b[39margs, \u001b[39m*\u001b[39m\u001b[39m*\u001b[39mkwargs)\n",
      "File \u001b[1;32m~\\AppData\\Local\\Packages\\PythonSoftwareFoundation.Python.3.10_qbz5n2kfra8p0\\LocalCache\\local-packages\\Python310\\site-packages\\pyfirmata\\pyfirmata.py:89\u001b[0m, in \u001b[0;36mBoard.__init__\u001b[1;34m(self, port, layout, baudrate, name, timeout)\u001b[0m\n\u001b[0;32m     88\u001b[0m \u001b[39mdef\u001b[39;00m \u001b[39m__init__\u001b[39m(\u001b[39mself\u001b[39m, port, layout\u001b[39m=\u001b[39m\u001b[39mNone\u001b[39;00m, baudrate\u001b[39m=\u001b[39m\u001b[39m57600\u001b[39m, name\u001b[39m=\u001b[39m\u001b[39mNone\u001b[39;00m, timeout\u001b[39m=\u001b[39m\u001b[39mNone\u001b[39;00m):\n\u001b[1;32m---> 89\u001b[0m     \u001b[39mself\u001b[39m\u001b[39m.\u001b[39msp \u001b[39m=\u001b[39m serial\u001b[39m.\u001b[39;49mSerial(port, baudrate, timeout\u001b[39m=\u001b[39;49mtimeout)\n\u001b[0;32m     90\u001b[0m     \u001b[39m# Allow 5 secs for Arduino's auto-reset to happen\u001b[39;00m\n\u001b[0;32m     91\u001b[0m     \u001b[39m# Alas, Firmata blinks its version before printing it to serial\u001b[39;00m\n\u001b[0;32m     92\u001b[0m     \u001b[39m# For 2.3, even 5 seconds might not be enough.\u001b[39;00m\n\u001b[0;32m     93\u001b[0m     \u001b[39m# TODO Find a more reliable way to wait until the board is ready\u001b[39;00m\n\u001b[0;32m     94\u001b[0m     \u001b[39mself\u001b[39m\u001b[39m.\u001b[39mpass_time(BOARD_SETUP_WAIT_TIME)\n",
      "File \u001b[1;32m~\\AppData\\Local\\Packages\\PythonSoftwareFoundation.Python.3.10_qbz5n2kfra8p0\\LocalCache\\local-packages\\Python310\\site-packages\\serial\\serialwin32.py:33\u001b[0m, in \u001b[0;36mSerial.__init__\u001b[1;34m(self, *args, **kwargs)\u001b[0m\n\u001b[0;32m     31\u001b[0m \u001b[39mself\u001b[39m\u001b[39m.\u001b[39m_overlapped_read \u001b[39m=\u001b[39m \u001b[39mNone\u001b[39;00m\n\u001b[0;32m     32\u001b[0m \u001b[39mself\u001b[39m\u001b[39m.\u001b[39m_overlapped_write \u001b[39m=\u001b[39m \u001b[39mNone\u001b[39;00m\n\u001b[1;32m---> 33\u001b[0m \u001b[39msuper\u001b[39m(Serial, \u001b[39mself\u001b[39m)\u001b[39m.\u001b[39m\u001b[39m__init__\u001b[39m(\u001b[39m*\u001b[39margs, \u001b[39m*\u001b[39m\u001b[39m*\u001b[39mkwargs)\n",
      "File \u001b[1;32m~\\AppData\\Local\\Packages\\PythonSoftwareFoundation.Python.3.10_qbz5n2kfra8p0\\LocalCache\\local-packages\\Python310\\site-packages\\serial\\serialutil.py:244\u001b[0m, in \u001b[0;36mSerialBase.__init__\u001b[1;34m(self, port, baudrate, bytesize, parity, stopbits, timeout, xonxoff, rtscts, write_timeout, dsrdtr, inter_byte_timeout, exclusive, **kwargs)\u001b[0m\n\u001b[0;32m    241\u001b[0m     \u001b[39mraise\u001b[39;00m \u001b[39mValueError\u001b[39;00m(\u001b[39m'\u001b[39m\u001b[39munexpected keyword arguments: \u001b[39m\u001b[39m{!r}\u001b[39;00m\u001b[39m'\u001b[39m\u001b[39m.\u001b[39mformat(kwargs))\n\u001b[0;32m    243\u001b[0m \u001b[39mif\u001b[39;00m port \u001b[39mis\u001b[39;00m \u001b[39mnot\u001b[39;00m \u001b[39mNone\u001b[39;00m:\n\u001b[1;32m--> 244\u001b[0m     \u001b[39mself\u001b[39;49m\u001b[39m.\u001b[39;49mopen()\n",
      "File \u001b[1;32m~\\AppData\\Local\\Packages\\PythonSoftwareFoundation.Python.3.10_qbz5n2kfra8p0\\LocalCache\\local-packages\\Python310\\site-packages\\serial\\serialwin32.py:64\u001b[0m, in \u001b[0;36mSerial.open\u001b[1;34m(self)\u001b[0m\n\u001b[0;32m     62\u001b[0m \u001b[39mif\u001b[39;00m \u001b[39mself\u001b[39m\u001b[39m.\u001b[39m_port_handle \u001b[39m==\u001b[39m win32\u001b[39m.\u001b[39mINVALID_HANDLE_VALUE:\n\u001b[0;32m     63\u001b[0m     \u001b[39mself\u001b[39m\u001b[39m.\u001b[39m_port_handle \u001b[39m=\u001b[39m \u001b[39mNone\u001b[39;00m    \u001b[39m# 'cause __del__ is called anyway\u001b[39;00m\n\u001b[1;32m---> 64\u001b[0m     \u001b[39mraise\u001b[39;00m SerialException(\u001b[39m\"\u001b[39m\u001b[39mcould not open port \u001b[39m\u001b[39m{!r}\u001b[39;00m\u001b[39m: \u001b[39m\u001b[39m{!r}\u001b[39;00m\u001b[39m\"\u001b[39m\u001b[39m.\u001b[39mformat(\u001b[39mself\u001b[39m\u001b[39m.\u001b[39mportstr, ctypes\u001b[39m.\u001b[39mWinError()))\n\u001b[0;32m     66\u001b[0m \u001b[39mtry\u001b[39;00m:\n\u001b[0;32m     67\u001b[0m     \u001b[39mself\u001b[39m\u001b[39m.\u001b[39m_overlapped_read \u001b[39m=\u001b[39m win32\u001b[39m.\u001b[39mOVERLAPPED()\n",
      "\u001b[1;31mSerialException\u001b[0m: could not open port 'COM5': FileNotFoundError(2, 'O sistema não pode encontrar o arquivo especificado.', None, 2)"
     ]
    }
   ],
   "source": [
    "import numpy as np\n",
    "import matplotlib.pyplot as plt\n",
    "from qiskit import*\n",
    "from qiskit.circuit import*\n",
    "from qiskit.visualization import*\n",
    "import pyfirmata\n",
    "import time\n",
    "\n",
    "port = 'COM5' # Definindo a porta, arduino de acordo com o que está no Sketch.\n",
    "board = pyfirmata.Arduino(port) # Criando o objeto \"board\" com a respoectiva porta\n",
    "\n",
    "\n",
    "def pyQuantArd(results):\n",
    "    qBits = len(list(results)[0])\n",
    "    N = 2**qBits\n",
    "    pinVermelho = 8 # 1000\n",
    "    pinVerde = 9 # 0100\n",
    "    pinBranco = 10 # 0010\n",
    "    pinAmarelo = 11 # 0001\n",
    "    \n",
    "    initial_Array = np.zeros(2**qBits)\n",
    "    for i in range(len(results)):\n",
    "        initial_Array = initial_Array + np.identity(N)[int(list(results)[i],base = 2)]\n",
    "\n",
    "    for i in range(5):\n",
    "        time.sleep(0.1)\n",
    "        board.digital[pinVermelho].write(int(initial_Array[0]))\n",
    "        board.digital[pinVerde].write(int(initial_Array[1]))\n",
    "        board.digital[pinBranco].write(int(initial_Array[2]))\n",
    "        board.digital[pinAmarelo].write(int(initial_Array[3]))\n",
    "        \n",
    "        time.sleep(0.1)\n",
    "        board.digital[pinVermelho].write(0)\n",
    "        board.digital[pinVerde].write(0)\n",
    "        board.digital[pinBranco].write(0)\n",
    "        board.digital[pinAmarelo].write(0)\n",
    "        time.sleep(0.1)"
   ]
  },
  {
   "attachments": {},
   "cell_type": "markdown",
   "metadata": {},
   "source": [
    "##### Grover com 2 QuBits"
   ]
  },
  {
   "cell_type": "code",
   "execution_count": null,
   "metadata": {},
   "outputs": [],
   "source": [
    "qBits = 2\n",
    "\n",
    "m = 1 #Quantos Estados queremos achar\n",
    "N = 2**qBits\n",
    "\n",
    "t = int(np.pi/4*(np.sqrt(N/m))) # Números de Iterações Grover\n",
    "qc = QuantumCircuit(qBits)\n",
    "qc.h(range(qBits))\n",
    "# Vamos definir o oráculo para o estado |11> que é o equivalente ao LED amarelo\n",
    "qc.cz(0,1)\n",
    "qc.barrier()\n",
    "# Vamos definir o operador diffuser\n",
    "\n",
    "for t_ in range(t):\n",
    "    qc.h(range(qBits))\n",
    "    qc.x(range(qBits))\n",
    "    qc.cz(0,1)\n",
    "    qc.x(range(qBits))\n",
    "    qc.h(range(qBits))\n",
    "\n",
    "qc.measure_all()\n",
    "qc.draw('mpl')\n"
   ]
  },
  {
   "attachments": {},
   "cell_type": "markdown",
   "metadata": {},
   "source": [
    "<p> Agora, vamos extrair os resultados do circuito utilizando a função get_counts() <p>"
   ]
  },
  {
   "cell_type": "code",
   "execution_count": null,
   "metadata": {},
   "outputs": [],
   "source": [
    "sim = Aer.get_backend(\"aer_simulator\")\n",
    "results = execute(qc,sim,shots = 10000).result().get_counts()\n",
    "plot_histogram(results)"
   ]
  },
  {
   "cell_type": "code",
   "execution_count": null,
   "metadata": {},
   "outputs": [],
   "source": [
    "pyQuantArd(results)"
   ]
  },
  {
   "attachments": {},
   "cell_type": "markdown",
   "metadata": {},
   "source": [
    "<b>Exercício 1: Agora é com você. Complete o Código de Grover para Ligar o LED branco e meça o circuito</b>"
   ]
  },
  {
   "cell_type": "code",
   "execution_count": null,
   "metadata": {},
   "outputs": [],
   "source": [
    "qBits = 2\n",
    "\n",
    "m = 1 #Quantos Estados queremos achar\n",
    "\n",
    "\n",
    "N = 2**qBits\n",
    "t = int(np.pi/4*(np.sqrt(N/m))) # Números de Iterações Grover\n",
    " qc = QuantumCircuit(qBits)\n",
    "qc.h(range(qBits))\n",
    "\n",
    "\n",
    "#Defina o Oráculo para o LED Branco\n",
    "\n",
    "#======= COMEÇA O CÓDIGO AQUI ====== #\n",
    "\n",
    "\n",
    "\n",
    "qc.cz(0,1)\n",
    "\n",
    "\n",
    "# ======TERMINA O CÓDIGO AQUI ==== #\n",
    "\n",
    "\n",
    "qc.barrier()\n",
    "\n",
    "# Vamos definir o operador diffuser\n",
    "\n",
    "for t_ in range(t):\n",
    "    qc.h(range(qBits))\n",
    "    qc.x(range(qBits))\n",
    "    qc.cz(0,1)\n",
    "    qc.x(range(qBits))\n",
    "    qc.h(range(qBits))\n",
    "#======= COMEÇA O CÓDIGO AQUI ====== #\n",
    "\n",
    "#======= TERMINA O CÓDIGO AQUI ====== #\n",
    "\n",
    "\n",
    "\n",
    "\n",
    "qc.draw('mpl')\n"
   ]
  },
  {
   "cell_type": "code",
   "execution_count": null,
   "metadata": {},
   "outputs": [],
   "source": [
    "sim = Aer.get_backend(\"aer_simulator\")\n",
    "results = execute(qc,sim,shots = 10000).result().get_counts()\n",
    "\n",
    "plot_histogram(results)"
   ]
  },
  {
   "cell_type": "code",
   "execution_count": null,
   "metadata": {},
   "outputs": [],
   "source": [
    "pyQuantArd() # COMPLETE COM O OBJETO QUE GUARDA OS RESULTADOS"
   ]
  },
  {
   "attachments": {},
   "cell_type": "markdown",
   "metadata": {},
   "source": [
    "### Definindo um Grover de 3 QuBits\n",
    "##### Exercício 2: <p>Para isso precisamos criar uma porta multi-controlada Z, pois não existe uma porta multi-controlada Z no qiskit para 3 ou mais QuBits. \n",
    "<p>Crie uma porta multi-controle Z utilizando portas CNOTs multi-controle e Hadamards </p>\n",
    "<p>Dica HXH = Z </p>"
   ]
  },
  {
   "attachments": {},
   "cell_type": "markdown",
   "metadata": {},
   "source": [
    "#=======================Criando uma Porta MultiControl Z=================="
   ]
  },
  {
   "cell_type": "code",
   "execution_count": null,
   "metadata": {},
   "outputs": [],
   "source": [
    "mcz_ = QuantumCircuit(3)\n",
    "\n",
    "### COMEÇA O CÓDIGO AQUI\n",
    "\n",
    "mcz_.mcx([0,1],2)\n",
    "\n",
    "### TERMINA O CÓDIGO AQUI\n",
    "\n",
    "mcz = mcz_.to_instruction(label='Multi_controlZ')\n",
    "mcz_.draw('mpl')"
   ]
  },
  {
   "attachments": {},
   "cell_type": "markdown",
   "metadata": {},
   "source": [
    "#### Exercício 3: Crie um oráculo para 3 QuBits para medir o LED Amarelo"
   ]
  },
  {
   "cell_type": "code",
   "execution_count": null,
   "metadata": {},
   "outputs": [],
   "source": [
    "from qiskit import*\n",
    "from qiskit.visualization import*\n",
    "from qiskit.circuit import*\n",
    "\n",
    "\n",
    "\n",
    "\n",
    "qBits = 3\n",
    "\n",
    "\n",
    "N = 2**qBits\n",
    "m = 1\n",
    "t = int(np.floor(np.pi/4*(np.sqrt(N/m))))\n",
    "qRegs = QuantumRegister(qBits, 'qReg')\n",
    "qc = QuantumCircuit(qRegs)\n",
    "\n",
    "[qc.h(i) for i in range(qBits)]\n",
    "\n",
    "for t_ in range(t):\n",
    "    qc.barrier()\n",
    "    \n",
    "    # COMECE O CÓDIGO AQUI\n",
    "    \n",
    "    \n",
    "   \n",
    "   \n",
    "    # TERMINE O CÓDIGO AQUI\n",
    "    \n",
    "    qc.barrier()\n",
    "\n",
    "    [qc.h(i) for i in range(qBits)]\n",
    "    [qc.x(i) for i in range(qBits)]\n",
    "    qc.append(mcz,[0,1,2])\n",
    "    [qc.x(i) for i in range(qBits)]\n",
    "    [qc.h(i) for i in range(qBits)]\n",
    "\n",
    "qc.measure_all()\n",
    "\n",
    "\n",
    "qc.draw('mpl')"
   ]
  },
  {
   "cell_type": "code",
   "execution_count": null,
   "metadata": {},
   "outputs": [],
   "source": [
    "sim = Aer.get_backend(\"aer_simulator\")\n",
    "\n",
    "results = execute(qc, sim).result().get_counts()\n",
    "plot_histogram(results)"
   ]
  },
  {
   "cell_type": "code",
   "execution_count": null,
   "metadata": {},
   "outputs": [],
   "source": [
    "import heapq\n",
    "results  = dict(heapq.nlargest(m, results.items(), key= lambda item: item[1])) \n",
    "# Esta Função acima é para pegar os estados com maiores probabilidades"
   ]
  },
  {
   "cell_type": "code",
   "execution_count": null,
   "metadata": {},
   "outputs": [],
   "source": [
    "pyQuantArd() # ADICIONE OS RESULTADOS DE GROVER"
   ]
  },
  {
   "attachments": {},
   "cell_type": "markdown",
   "metadata": {},
   "source": [
    "<b>Exercício 4: Complete o Código de Grover para Ligar o LED branco, LED Verde, Led Amarelo</b>"
   ]
  },
  {
   "cell_type": "code",
   "execution_count": null,
   "metadata": {},
   "outputs": [],
   "source": [
    "from qiskit import*\n",
    "from qiskit.visualization import*\n",
    "from qiskit.circuit import*\n",
    "\n",
    "qBits = 3\n",
    "\n",
    "\n",
    "N = 2**qBits\n",
    "m = 3\n",
    "t = int(np.floor(np.pi/4*(np.sqrt(N/m))))\n",
    "qRegs = QuantumRegister(qBits, 'qReg')\n",
    "qc = QuantumCircuit(qRegs)\n",
    "\n",
    "[qc.h(i) for i in range(qBits)]\n",
    "\n",
    "for t_ in range(t):\n",
    "    qc.barrier()\n",
    "    \n",
    "    #===================== Oráculo para o LED Branco =======================\n",
    "    \n",
    "    \n",
    "    qc.barrier()\n",
    "    #===================== Oráculo para o LED Verde ======================\n",
    "    \n",
    "    \n",
    "    \n",
    "    qc.barrier()\n",
    "    \n",
    "    #====================== Oráculo para o LED Amarelo ======================\n",
    "   \n",
    "    \n",
    "    qc.barrier()\n",
    "\n",
    "    [qc.h(i) for i in range(qBits)]\n",
    "    [qc.x(i) for i in range(qBits)]\n",
    "    qc.append(mcz,[0,1,2])\n",
    "    [qc.x(i) for i in range(qBits)]\n",
    "    [qc.h(i) for i in range(qBits)]\n",
    "\n",
    "qc.measure_all()\n",
    "\n",
    "\n",
    "qc.draw('mpl')"
   ]
  },
  {
   "cell_type": "code",
   "execution_count": null,
   "metadata": {},
   "outputs": [],
   "source": [
    "sim = Aer.get_backend(\"aer_simulator\")\n",
    "\n",
    "results = execute(qc, sim).result().get_counts()\n",
    "plot_histogram(results)"
   ]
  },
  {
   "cell_type": "code",
   "execution_count": null,
   "metadata": {},
   "outputs": [],
   "source": [
    "import heapq\n",
    "results  = dict(heapq.nlargest(m, results.items(), key= lambda item: item[1]))\n"
   ]
  },
  {
   "cell_type": "code",
   "execution_count": null,
   "metadata": {},
   "outputs": [],
   "source": [
    "pyQuantArd() # ADICIONE OS RESULTADOS DE GROVER"
   ]
  },
  {
   "attachments": {},
   "cell_type": "markdown",
   "metadata": {},
   "source": [
    "DESAFIO (OPCIONAL): A porta Hadarmad pode superpor estados de um qubit. Ao aplicar a Hadarmard em |0> temos um estado $$H|0\\rangle = \\frac{|0\\rangle + |1\\rangle}{2}$$ Se fizermos 10000 medidas, a tendência é que a metade dessas medidas vai para o estado |0> e a outra metade vai para o estado |1>. \n",
    "\n",
    "<p>O Desafio é para criar um algoritmo quântico com 2 Qubits que selecione UM LED de uma determinada cor através do Algoritmo de Grover. Após isso, um outro algoritmo Quântico que utilize a porta Hadarmard faça medidas aleatórias neste LED, ao ponto de fazê-lo desligar e ligar cerca de 10000 vezes. </p>\n",
    "\n",
    "\n",
    "<b>ATENÇAO: FAÇA ISSO PARA TODAS AS POSSÍVEIS CORES</b>"
   ]
  }
 ],
 "metadata": {
  "kernelspec": {
   "display_name": "Python 3",
   "language": "python",
   "name": "python3"
  },
  "language_info": {
   "codemirror_mode": {
    "name": "ipython",
    "version": 3
   },
   "file_extension": ".py",
   "mimetype": "text/x-python",
   "name": "python",
   "nbconvert_exporter": "python",
   "pygments_lexer": "ipython3",
   "version": "3.10.11"
  },
  "orig_nbformat": 4
 },
 "nbformat": 4,
 "nbformat_minor": 2
}
